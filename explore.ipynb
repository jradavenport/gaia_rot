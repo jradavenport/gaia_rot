{
 "cells": [
  {
   "cell_type": "code",
   "execution_count": 3,
   "metadata": {
    "collapsed": false
   },
   "outputs": [],
   "source": [
    "%matplotlib inline\n",
    "import numpy as np\n",
    "import pandas as pd\n",
    "import matplotlib.pyplot as plt\n",
    "import matplotlib.cm as cm\n",
    "import matplotlib\n",
    "\n",
    "matplotlib.rcParams.update({'font.size':18})\n",
    "matplotlib.rcParams.update({'font.family':'serif'})"
   ]
  },
  {
   "cell_type": "code",
   "execution_count": 5,
   "metadata": {
    "collapsed": true
   },
   "outputs": [],
   "source": [
    "'''\n",
    "using CDS X-Match service\n",
    "tgas = J/ApJS/211/24/table1 & I/337/tgas\n",
    "gaia = J/ApJS/211/24/table1 & I/337/gaia\n",
    "'''\n",
    "\n",
    "file1 = '1473873638462A.csv'\n",
    "file2 = '1473873958151A.csv'"
   ]
  },
  {
   "cell_type": "code",
   "execution_count": 7,
   "metadata": {
    "collapsed": false
   },
   "outputs": [
    {
     "data": {
      "text/plain": [
       "Index([u'angDist', u'_RAJ2000', u'_DEJ2000', u'KIC', u'Teff', u'log(g)',\n",
       "       u'Mass', u'Prot', u'e_Prot', u'n_Prot', u'Rper', u'LPH', u'w', u'Ref',\n",
       "       u'_RA', u'_DE', u'ra_ep2000', u'dec_ep2000', u'errHalfMaj',\n",
       "       u'errHalfMin', u'errPosAng', u'ra', u'dec', u'hip', u'tycho2_id',\n",
       "       u'solution_id', u'source_id', u'random_index', u'ref_epoch',\n",
       "       u'ra_error', u'dec_error', u'parallax', u'parallax_error', u'pmra',\n",
       "       u'pmra_error', u'pmdec', u'pmdec_error', u'ra_dec_corr',\n",
       "       u'ra_parallax_corr', u'ra_pmra_corr', u'ra_pmdec_corr',\n",
       "       u'dec_parallax_corr', u'dec_pmra_corr', u'dec_pmdec_corr',\n",
       "       u'parallax_pmra_corr', u'parallax_pmdec_corr', u'pmra_pmdec_corr',\n",
       "       u'astrometric_n_obs_al', u'astrometric_n_obs_ac',\n",
       "       u'astrometric_n_good_obs_al', u'astrometric_n_good_obs_ac',\n",
       "       u'astrometric_n_bad_obs_al', u'astrometric_n_bad_obs_ac',\n",
       "       u'astrometric_delta_q', u'astrometric_excess_noise',\n",
       "       u'astrometric_excess_noise_sig', u'astrometric_primary_flag',\n",
       "       u'astrometric_relegation_factor', u'astrometric_weight_al',\n",
       "       u'astrometric_weight_ac', u'astrometric_priors_used',\n",
       "       u'matched_observations', u'duplicated_source',\n",
       "       u'scan_direction_strength_k1', u'scan_direction_strength_k2',\n",
       "       u'scan_direction_strength_k3', u'scan_direction_strength_k4',\n",
       "       u'scan_direction_mean_k1', u'scan_direction_mean_k2',\n",
       "       u'scan_direction_mean_k3', u'scan_direction_mean_k4', u'phot_g_n_obs',\n",
       "       u'phot_g_mean_flux', u'phot_g_mean_flux_error', u'phot_g_mean_mag',\n",
       "       u'phot_variable_flag', u'l', u'b', u'ecl_lon', u'ecl_lat'],\n",
       "      dtype='object')"
      ]
     },
     "execution_count": 7,
     "metadata": {},
     "output_type": "execute_result"
    }
   ],
   "source": [
    "tgas = pd.read_csv(file1)\n",
    "tgas.columns"
   ]
  },
  {
   "cell_type": "code",
   "execution_count": 8,
   "metadata": {
    "collapsed": false
   },
   "outputs": [
    {
     "data": {
      "text/plain": [
       "Index([u'angDist', u'_RAJ2000', u'_DEJ2000', u'KIC', u'Teff', u'log(g)',\n",
       "       u'Mass', u'Prot', u'e_Prot', u'n_Prot', u'Rper', u'LPH', u'w', u'Ref',\n",
       "       u'_RA', u'_DE', u'ra_ep2000', u'dec_ep2000', u'errHalfMaj',\n",
       "       u'errHalfMin', u'errPosAng', u'ra', u'dec', u'source_id', u'ref_epoch',\n",
       "       u'ra_error', u'dec_error', u'parallax', u'parallax_error', u'pmra',\n",
       "       u'pmra_error', u'pmdec', u'pmdec_error', u'ra_dec_corr',\n",
       "       u'duplicated_source', u'phot_g_n_obs', u'phot_g_mean_flux',\n",
       "       u'phot_g_mean_flux_error', u'phot_g_mean_mag', u'phot_variable_flag',\n",
       "       u'l', u'b'],\n",
       "      dtype='object')"
      ]
     },
     "execution_count": 8,
     "metadata": {},
     "output_type": "execute_result"
    }
   ],
   "source": [
    "gaia = pd.read_csv(file2)\n",
    "gaia.columns"
   ]
  },
  {
   "cell_type": "code",
   "execution_count": null,
   "metadata": {
    "collapsed": true
   },
   "outputs": [],
   "source": []
  }
 ],
 "metadata": {
  "kernelspec": {
   "display_name": "Python 2",
   "language": "python",
   "name": "python2"
  },
  "language_info": {
   "codemirror_mode": {
    "name": "ipython",
    "version": 2
   },
   "file_extension": ".py",
   "mimetype": "text/x-python",
   "name": "python",
   "nbconvert_exporter": "python",
   "pygments_lexer": "ipython2",
   "version": "2.7.10"
  }
 },
 "nbformat": 4,
 "nbformat_minor": 0
}
